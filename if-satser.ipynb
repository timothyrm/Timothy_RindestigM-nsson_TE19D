{
 "metadata": {
  "language_info": {
   "codemirror_mode": {
    "name": "ipython",
    "version": 3
   },
   "file_extension": ".py",
   "mimetype": "text/x-python",
   "name": "python",
   "nbconvert_exporter": "python",
   "pygments_lexer": "ipython3",
   "version": "3.8.3-final"
  },
  "orig_nbformat": 2,
  "kernelspec": {
   "name": "python_defaultSpec_1600930497974",
   "display_name": "Python 3.8.3 64-bit ('base': conda)"
  }
 },
 "nbformat": 4,
 "nbformat_minor": 2,
 "cells": [
  {
   "cell_type": "code",
   "execution_count": null,
   "metadata": {
    "tags": []
   },
   "outputs": [],
   "source": [
    "tal=float(input(\"ange ett tal\"))\n",
    "\n",
    "if tal > 0:\n",
    "   print(\"talet är possitivt\")\n",
    "\n",
    "elif tal < 0:\n",
    "   print(\"talet är negativt\")\n",
    "\n",
    "elif 1- < tal < 1:\n",
    "   print(\"talet är lika med 0\")"
   ]
  },
  {
   "cell_type": "code",
   "execution_count": 5,
   "metadata": {},
   "outputs": [
    {
     "output_type": "error",
     "ename": "SyntaxError",
     "evalue": "invalid syntax (<ipython-input-5-19cef07a6d74>, line 5)",
     "traceback": [
      "\u001b[1;36m  File \u001b[1;32m\"<ipython-input-5-19cef07a6d74>\"\u001b[1;36m, line \u001b[1;32m5\u001b[0m\n\u001b[1;33m    else:\u001b[0m\n\u001b[1;37m    ^\u001b[0m\n\u001b[1;31mSyntaxError\u001b[0m\u001b[1;31m:\u001b[0m invalid syntax\n"
     ]
    }
   ],
   "source": [
    "tal=float(input(\"ange ett tal\"))\n",
    "\n",
    "if tal%2 ==0:\n",
    "    print(\"talet är jämt\")\n",
    "elif tal%5 ==\n",
    "    print(\"talet är udda\")\n",
    "        "
   ]
  },
  {
   "cell_type": "code",
   "execution_count": null,
   "metadata": {},
   "outputs": [],
   "source": [
    "ta1= float(input(\"ange valfritt tal))\"))\n",
    "tal2= float(input(\"ange valfritt tal\"))\n",
    "\n",
    "if tal2 <tal1 :\n",
    "    print(f\"{tal1}är större\")\n",
    "else:\n",
    "    print(f\"{tal2} är större\")"
   ]
  },
  {
   "cell_type": "code",
   "execution_count": null,
   "metadata": {},
   "outputs": [],
   "source": []
  },
  {
   "cell_type": "code",
   "execution_count": null,
   "metadata": {},
   "outputs": [],
   "source": [
    "vinkel=float(input(\"ange en vinkel\"))\n",
    "\n",
    "if vinkel <=90:\n",
    "    print(\"vinkeln är spetsig\")\n",
    "elif vinkel == 90:\n",
    "    print(\"vinkeln är rät\")\n",
    "elif vinkel >90 and vinkel <180:\n",
    "    print(\"vinkeln är trubbig\")\n",
    "elif vinkel ==180:\n",
    "    print(\"vinkeln är rak\")\n",
    "elif vinkel >180 and vinkel <360:\n",
    "    print(\"vinkeln är konvex\")\n",
    "elif vinkel ==360:\n",
    "    print(\"vinkeln är hel\")"
   ]
  },
  {
   "cell_type": "code",
   "execution_count": null,
   "metadata": {},
   "outputs": [],
   "source": []
  }
 ]
}