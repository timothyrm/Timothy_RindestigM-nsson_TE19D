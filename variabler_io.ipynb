{
 "metadata": {
  "orig_nbformat": 2,
  "kernelspec": {
   "name": "python3",
   "display_name": "Python 3"
  }
 },
 "nbformat": 4,
 "nbformat_minor": 2,
 "cells": [
  {
   "cell_type": "markdown",
   "metadata": {},
   "source": [
    "# Tyngdkraft \n",
    "\n",
    "* Fråga användaren om sin vikt\n",
    "* Beräkna tyngdkraften \n",
    "\n",
    "$F = mg$\n"
   ]
  },
  {
   "cell_type": "code",
   "execution_count": 7,
   "metadata": {
    "tags": []
   },
   "outputs": [
    {
     "output_type": "stream",
     "name": "stdout",
     "text": "Din tyngdkraft är 599.02N\nDin tyngdkraft är 599.02 N\n"
    }
   ],
   "source": [
    "# skapar en variabel g och tilldelar det värdet 9.82\n",
    "g = 9.82\n",
    "\n",
    "# input ger oss en sträng, float typomvandlar den till flyttal\n",
    "m = float(input(\"Hur mycket väger du? \"))\n",
    "\n",
    "F = m*g # 599.02\n",
    "\n",
    "print(f\"Din tyngdkraft är {F}N\") #f-string \n",
    "print(\"Din tyngdkraft är\",F,\"N\") "
   ]
  },
  {
   "cell_type": "markdown",
   "metadata": {},
   "source": [
    "# Procent\n",
    "\n",
    "* Fråga användaren om ett decimaltal\n",
    "* Omvandla talet till procent\n"
   ]
  },
  {
   "cell_type": "code",
   "execution_count": 11,
   "metadata": {
    "tags": []
   },
   "outputs": [
    {
     "output_type": "stream",
     "name": "stdout",
     "text": "0.58 = 58%\n0.58 = 58 %\n"
    }
   ],
   "source": [
    "decimalTal = float(input(\"Ange ett decimaltal: \"))\n",
    "procent = decimalTal*100\n",
    "\n",
    "print(f\"{decimalTal} = {procent:.0f}%\")\n",
    "print(decimalTal,\"=\",round(procent),\"%\")"
   ]
  },
  {
   "cell_type": "markdown",
   "metadata": {},
   "source": [
    "# K $\\rightarrow$ °C\n",
    "\n",
    "* Fråga användaren att ange temperaturen i Kelvin och omvandla till °C"
   ]
  },
  {
   "cell_type": "code",
   "execution_count": 1,
   "metadata": {
    "tags": []
   },
   "outputs": [
    {
     "output_type": "stream",
     "name": "stdout",
     "text": "1.0kelvin=-272.15grader\n"
    }
   ],
   "source": [
    "K = float(input(\"ange temperaturen för kelvin\"))\n",
    "C = K-273.15\n",
    "print(f\"{K}kelvin={C}grader\")"
   ]
  },
  {
   "cell_type": "markdown",
   "metadata": {},
   "source": [
    "# °C $\\rightarrow$ K\n",
    "* Fråga användaren att ange temperaturen i Kelvin och omvandla till °C"
   ]
  },
  {
   "cell_type": "code",
   "execution_count": null,
   "metadata": {},
   "outputs": [],
   "source": [
    "C = float(input(\"skriv in temperaturen för celsius\"))\n",
    "K = C+273.15\n",
    "print(f\"{C}grader={K}kelvin)"
   ]
  },
  {
   "cell_type": "markdown",
   "metadata": {},
   "source": [
    "# Västtrafik \n",
    "\n",
    "Engångsbiljett - 30kr <br>\n",
    "månadskort - 775kr\n",
    "\n",
    "Fråga användaren hur många gånger hen åker med västtrafik. Beräkna totala kostnaden om användaren betalar med engångsbiljetter. \n",
    "\n",
    "Bonus: utöka programmet för att ta reda på om det är värt att köpa månadskort eller inte."
   ]
  },
  {
   "cell_type": "code",
   "execution_count": 14,
   "metadata": {
    "tags": []
   },
   "outputs": [
    {
     "output_type": "stream",
     "name": "stdout",
     "text": "2 turer har åkts under en månad och kostade 60 Kr\n"
    }
   ],
   "source": [
    "Engångsbiljett = int(input(\"antalet gånger som hen åker på en månad\"))\n",
    "Kostnad = Engångsbiljett*30\n",
    "print(f\"{Engångsbiljett} turer har åkts under en månad och kostade {Kostnad} Kr\")\n",
    "if(Kostnad>775):\n",
    "    print(\"Det är inte värt att åka med engångsbiljetter då det blir dyrare.\")"
   ]
  },
  {
   "cell_type": "code",
   "execution_count": null,
   "metadata": {},
   "outputs": [],
   "source": []
  }
 ]
}